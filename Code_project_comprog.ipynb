{
  "cells": [
    {
      "cell_type": "code",
      "execution_count": null,
      "metadata": {
        "id": "5a9tzInFOVG5"
      },
      "outputs": [],
      "source": [
        "import pandas as pd\n",
        "from scipy.sparse import csr_matrix\n",
        "from sklearn.neighbors import NearestNeighbors\n",
        "import re\n",
        "import numpy as np\n",
        "import random"
      ]
    },
    {
      "cell_type": "code",
      "execution_count": null,
      "metadata": {
        "id": "eEjr8HiNOVG6"
      },
      "outputs": [],
      "source": [
        "df1 = pd.read_csv(\"/content/animelist.csv\")\n",
        "df2 = pd.read_csv(\"/content/anime.csv\")"
      ]
    },
    {
      "cell_type": "code",
      "execution_count": null,
      "metadata": {
        "id": "eUA-R1IYOVG7"
      },
      "outputs": [],
      "source": [
        "#เลือก columns ที่จะใช้\n",
        "anime = df2.iloc[:,[0, 1]]\n",
        "#เปลี่ยนชื่อ columns ให้ตรงกับ df1\n",
        "anime.columns = ['anime_id', 'Name']"
      ]
    },
    {
      "cell_type": "code",
      "execution_count": null,
      "metadata": {
        "id": "STeM7uZnOVG7"
      },
      "outputs": [],
      "source": [
        "#innerjoin ระหว่าง df1 กับ anime\n",
        "anime_complete = pd.merge(df1, anime, on='anime_id')\n",
        "#check ตัว NaN (Not a Number)\n",
        "anime_complete.isna().sum()"
      ]
    },
    {
      "cell_type": "code",
      "execution_count": null,
      "metadata": {
        "id": "olIjT6APOVG8"
      },
      "outputs": [],
      "source": [
        "anime_complete"
      ]
    },
    {
      "cell_type": "code",
      "execution_count": null,
      "metadata": {
        "id": "7bzs-U0TOVG7"
      },
      "outputs": [],
      "source": [
        "#สร้าง function ลบตัวอักษรพิเศษ\n",
        "def text_cleaning(text):\n",
        "    text = re.sub(r'&quot;', '', text)# \"\n",
        "    text = re.sub(r'.hack//', '', text)#.hack//\n",
        "    text = re.sub(r'&#039;', '', text)# '\n",
        "    text = re.sub(r'A&#039;s', '', text)#A's\n",
        "    text = re.sub(r'I&#039;', 'I\\'', text)#I'\n",
        "    text = re.sub(r'&amp;', 'and', text)#&\n",
        "    return text"
      ]
    },
    {
      "cell_type": "code",
      "execution_count": null,
      "metadata": {
        "id": "bVYUVhJPOVG8"
      },
      "outputs": [],
      "source": [
        "#สร้างตัว copy\n",
        "anime_features =  anime_complete.copy()\n",
        "#ลบตัวอักษรพิเศษใน column \"anime_title\"\n",
        "anime_features['Name'] = anime_features['Name'].apply(text_cleaning)"
      ]
    },
    {
      "cell_type": "code",
      "execution_count": null,
      "metadata": {
        "id": "7eXK-M0zOVG9"
      },
      "outputs": [],
      "source": [
        "user_id_count = anime_features['user_id'].value_counts()\n",
        "user_id_count = user_id_count[user_id_count >= 100]#กรอง user ที่รีวิวมากกว่า 100 ครั้ง\n",
        "test_index_num = user_id_count.sample(frac = 0.3).index#แบ่งเป็น test 30%\n",
        "anime_features = anime_features[anime_features['user_id'].isin(user_id_count.index)]"
      ]
    },
    {
      "cell_type": "code",
      "execution_count": null,
      "metadata": {
        "id": "pqPrzq_0NAwk"
      },
      "outputs": [],
      "source": [
        "test = anime_features[anime_features['user_id'].isin(test_index_num)]#ถ้าใน column user_id มีตัวใน test_index_num ให้ใส่เข้าไป\n",
        "train = anime_features[anime_features['user_id'].isin(test_index_num) == False]#ถ้าใน column user_id ไม่ได้มีตัวใน test_index_num ให้ใส่เข้าไป"
      ]
    },
    {
      "cell_type": "code",
      "execution_count": null,
      "metadata": {
        "colab": {
          "base_uri": "https://localhost:8080/",
          "height": 36
        },
        "id": "VwMzAStoRFJS",
        "outputId": "5936f3d6-2318-4545-e4b0-6aeeb213c57f"
      },
      "outputs": [],
      "source": [
        "test = test.sort_values(\"user_id\")\n",
        "test = test[test[\"rating\"] > 8.0]# rating มากกว่า 8\n",
        "test = test.loc[:,[\"user_id\",\"Name\"]]# ลด column เหลือ แค่ 2 column"
      ]
    },
    {
      "cell_type": "code",
      "execution_count": null,
      "metadata": {
        "id": "hLFbQ5uRWdHw"
      },
      "outputs": [],
      "source": [
        "ls_test = list(test.groupby(\"user_id\"))"
      ]
    },
    {
      "cell_type": "code",
      "execution_count": null,
      "metadata": {
        "id": "JKyZQimwJ_MF"
      },
      "outputs": [],
      "source": [
        "train_pivot = train.pivot_table(index='Name', columns = 'user_id', values = 'rating').fillna(0)"
      ]
    },
    {
      "cell_type": "code",
      "execution_count": null,
      "metadata": {
        "id": "TONtEXYZOVG9"
      },
      "outputs": [],
      "source": [
        "#เปลี่ยนจาก series เป็น csr_matrix (Compressed Sparse Row Matrix) เพื่อให้เวลา fit ข้อมูลใน Knn มันเร็วขึ้น\n",
        "anime_matrix = csr_matrix(train_pivot.values)"
      ]
    },
    {
      "cell_type": "code",
      "execution_count": null,
      "metadata": {
        "id": "z9Q-XRT_OVG9"
      },
      "outputs": [],
      "source": [
        "#fit ข้อมูล\n",
        "model_knn2 = NearestNeighbors(algorithm='brute',metric=\"cosine\")#ใช้วิธีแบบ cosine similarity\n",
        "model_knn2.fit(anime_matrix)"
      ]
    },
    {
      "cell_type": "code",
      "execution_count": null,
      "metadata": {
        "id": "Z6htisvXOVG-"
      },
      "outputs": [],
      "source": [
        "def give_ls_knn(model=model_knn2,anime_title = [np.random.choice(train_pivot.index)],anime_pivot=train_pivot, num = 100):\n",
        "    a = np.array([[]])\n",
        "    b = np.array([[]])\n",
        "    # Print the selected anime title\n",
        "    print(\"*********************************************************************************\")\n",
        "    print(f\"Selected anime title: {anime_title}\")\n",
        "    # Find the row index of the selected anime title\n",
        "    # ใช้ knn โดยหาว่าตัวไหนใกล้มันที่สุด\n",
        "    for var in anime_title:\n",
        "        query_index = anime_pivot.index.get_loc(var)#เปลี่ยนชื่อ anime เป็น index \n",
        "        distances, indices = model.kneighbors(anime_pivot.iloc[query_index, :].values.reshape(1, -1), n_neighbors=num) #เลือกมาใกล้ตัวที่ใกล้เคียงกัน\n",
        "        #เอาแต่ละรอบมารวมกันเป็น Array เดียว\n",
        "        a = np.concatenate((a,distances),axis = 1)\n",
        "        b = np.concatenate((b,indices), axis = 1)\n",
        "  \n",
        "    con = np.transpose(np.concatenate((b,a), axis = 0)) #Transpose\n",
        "    df = pd.DataFrame(con, columns= [\"Indices\", \"Distances\"])#สร้าง Dataframe\n",
        "  \n",
        "    #หาว่า anime เรื่องไหนไม่อยู่ใกล้ภายใน 100 ตัวแรกของ anime ที่อยุ่ใน anime_title ทั้งหมด\n",
        "    df2 = df.groupby(\"Indices\").count() != len(anime_title)\n",
        "    #เอา anime_id จากเงื่อนไขข้างบนแปลงเป็น list\n",
        "    ls1 = [int(var) for var in list(df.groupby(\"Indices\").sum()[\"Distances\"][df2[\"Distances\"]].index)]\n",
        "    #แปลง index ของ df ให้เป็นตาม anime_id\n",
        "    df.index = ([int(var) for var in list(df[\"Indices\"])])\n",
        "    #drop ตัวที่เข้าเงื่อนไขออก\n",
        "    for var in ls1:\n",
        "        df = df.drop(var)\n",
        "  \n",
        "    #sum distance ทั้งหมดของแต่ละตัวและเรียงตาม Distance จากน้อยไปมาก\n",
        "    df3 = df.groupby(\"Indices\").sum().apply(lambda x: x).sort_values(['Distances','Indices'])\n",
        "    #แยก Indices เป็น list\n",
        "    indices = [int(var) for var in list(df3.index)][len(anime_title):len(anime_title)+20]\n",
        "    #แยก Distances เป็น list\n",
        "    distances = list(df3[\"Distances\"])[len(anime_title):len(anime_title)+20]\n",
        "\n",
        "    minest = []\n",
        "    # หาว่ามีเรื่องไหนจาก 20 เรื่อง ที่แนะนำพิเศษสำหรับ กลุ่มเมะ ใน anime_title อันไหนเป็นพิเศษ\n",
        "    for var2 in range(len(indices)):\n",
        "        check = a[np.where(b == indices[var2])]#Distance ของตัวนั้นจาก แต่ละเรื่องใน anime_title\n",
        "        add = []\n",
        "        scoring = distances[var2]*((1/len(anime_title))*0.75)#เกณฑ์\n",
        "        if len(check[np.where(check < scoring)]) != 0:\n",
        "            for var in check[np.where(check < scoring)]:\n",
        "                add.append(anime_title[list(check).index(var)])#เช็คว่าตัวที่น้อยกว่าเกณฑ์มาจากเรื่องไหน แล้วเพิ่มเข้า add\n",
        "            minest.append(add)#เพิ่ม add เข้าไปใน minest\n",
        "        else:\n",
        "            minest.append(len(anime_title))\n",
        "    ans = []\n",
        "    print(\"*********************************************************************************\")\n",
        "    #print ชื่อ anime ที่ recommend\n",
        "    for i, (distance, index) in enumerate(zip(distances, indices)):#len(anime_title): คือการตัดตัวเรื่องจาก anime_title ออก\n",
        "        txt = \"\"\n",
        "        if minest[i] != len(anime_title) and len(anime_title)!= 1:#เช็คว่าเรื่องนั้น แนะนำพิเศษสำหรับอนิเมะเรื่องไหน หรือไม่\n",
        "            txt = \"Significant from :\"\n",
        "            if len(minest[i])!= 1:\n",
        "                for var in minest[i]:\n",
        "                    txt += f\" {var}\"\n",
        "            else:\n",
        "                txt += f\" {minest[i][0]}\"\n",
        "        print(f\"{i+1:02d}: {anime_pivot.index[index]}, with total distance of {distance:.2f}\")\n",
        "        ans.append(anime_pivot.index[index])\n",
        "        if txt != \"\":\n",
        "            print(txt)\n",
        "        print(\"---------------------------------------------------------------------------------\")\n",
        "    return ans"
      ]
    },
    {
      "cell_type": "code",
      "execution_count": null,
      "metadata": {
        "id": "SvZo63lwfVG3"
      },
      "outputs": [],
      "source": [
        "score = 0\n",
        "for var in ls_test:\n",
        "    ls1 = var[1][\"Name\"].values[5:]\n",
        "    ls2 = give_ls_knn(anime_title = list(var[1][\"Name\"].values[:5]))\n",
        "    for i in ls1:\n",
        "        if i in ls2:\n",
        "            score += 1\n",
        "            break\n",
        "    print(score)"
      ]
    },
    {
      "cell_type": "code",
      "execution_count": null,
      "metadata": {},
      "outputs": [],
      "source": [
        "print(f\"Accuracy {score/len(ls_test)}\")"
      ]
    },
    {
      "cell_type": "code",
      "execution_count": null,
      "metadata": {
        "id": "SSZNBawPC4ck"
      },
      "outputs": [],
      "source": [
        "give_ls_knn(anime_title=[\"Naruto\",\"One Punch Man\"], model=model_knn2)"
      ]
    },
    {
      "cell_type": "markdown",
      "metadata": {
        "id": "YPvFxGPfXGfz"
      },
      "source": []
    },
    {
      "cell_type": "code",
      "execution_count": null,
      "metadata": {
        "id": "448NFETAOVG_"
      },
      "outputs": [],
      "source": [
        "give_ls_knn(anime_title=[\"Tensei shitara Slime Datta Ken\",\"Boruto: Naruto Next Generations\"], model=model_knn2)"
      ]
    },
    {
      "cell_type": "code",
      "execution_count": null,
      "metadata": {
        "id": "F_hz56JDsSVa"
      },
      "outputs": [],
      "source": [
        "give_ls_knn(anime_title=[\"Boruto: Naruto Next Generations\"], model=model_knn2)"
      ]
    },
    {
      "cell_type": "code",
      "execution_count": null,
      "metadata": {
        "id": "edhu0NsOwJjZ"
      },
      "outputs": [],
      "source": [
        "print(list([1,2,2]))"
      ]
    }
  ],
  "metadata": {
    "colab": {
      "provenance": []
    },
    "kernelspec": {
      "display_name": "Python 3",
      "language": "python",
      "name": "python3"
    },
    "language_info": {
      "codemirror_mode": {
        "name": "ipython",
        "version": 3
      },
      "file_extension": ".py",
      "mimetype": "text/x-python",
      "name": "python",
      "nbconvert_exporter": "python",
      "pygments_lexer": "ipython3",
      "version": "3.10.5"
    },
    "orig_nbformat": 4
  },
  "nbformat": 4,
  "nbformat_minor": 0
}
